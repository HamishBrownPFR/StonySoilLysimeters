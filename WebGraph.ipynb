{
 "cells": [
  {
   "cell_type": "markdown",
   "metadata": {},
   "source": [
    "##Read in data, apply indexs and summarise for the first time"
   ]
  },
  {
   "cell_type": "code",
   "execution_count": 20,
   "metadata": {
    "collapsed": true
   },
   "outputs": [],
   "source": [
    "#Read in data\n",
    "AllData=pd.read_csv('K:\\Rainshelter\\StonySoilLysimeters\\DownloadedData\\StonyLysimetersCS650.dat', #specify file path for data to read in\n",
    "                         parse_dates=True, #tell the function to parse date columns to datetime formats\n",
    "                         dayfirst=True, #tell the function that the day is before the year in the data i.e format='%d/%m/%Y %H:%M'\n",
    "                         skiprows = [0,2,3], #leave out rows 1, 3 and 4 which have redundant information\n",
    "                         index_col = 0, #Use the first column, which is Date, as an index\n",
    "                         na_values = 'NAN')\n",
    "\n",
    "#Read in calibration coefficients calculated in C:\\GitHubRepos\\StonySoilLysimeters\\Calibration\\CS650Calibration.ipynb\n",
    "SensorCoefficients = pd.read_pickle('C:\\GitHubRepos\\StonySoilLysimeters\\Calibration\\CS650Calibration.pkl')\n",
    "\n",
    "#Bring in all index data\n",
    "AllDataIndex=pd.read_csv('C:\\GitHubRepos\\StonySoilLysimeters\\IndexFiles\\StonyLysimetersWater&TempIndex.csv',\n",
    "                         index_col = 0)\n",
    "\n",
    "#Bring in index for horizion types\n",
    "HorizonIndex=pd.read_csv('C:\\GitHubRepos\\StonySoilLysimeters\\IndexFiles\\HorizonIndex.csv', #specify file path for data to read in\n",
    "                         index_col = 0, #Use the first column, which is Date, as an index\n",
    "                         na_values = 'NAN')\n",
    "\n",
    "#Apply indexes to data\n",
    "AllDataTransposed = AllData.transpose()\n",
    "AllDataIndexed = pd.concat([AllDataIndex,AllDataTransposed], axis=1)\n",
    "AllDataIndexed.index.name='ColumnHeader'\n",
    "AllDataIndexed.set_index(['Measurement','Depth','Gravels','Stones','Column','Sensor', 'MUX', 'Port','Units','Summary','Block','Treatment'], \n",
    "                        append=False, inplace=True)\n",
    "AllDataIndexed.sort(inplace=True)\n",
    "LysoData=AllDataIndexed.transpose()\n",
    "LysoData.index = LysoData.index.to_datetime()  ## for some reason the concat function changes the data type on the date indes so need to change it back\n",
    "\n",
    "##Apply calibrations\n",
    "VWC_uncalibrated = LysoData.VolumetricWaterContent\n",
    "VWC_uncalibrated.columns = VWC_uncalibrated.columns.swaplevel('Depth','Sensor') #Make sensor the top level so index selection works properly\n",
    "VWC = pd.DataFrame(index = VWC_uncalibrated.index, columns = VWC_uncalibrated.columns)  #Set up empty dataframe with the same index and column structure as TDR data\n",
    "\n",
    "for X in range (1,97): \n",
    "    SensorRef = 'S_' + np.str(X)\n",
    "    Horizon = HorizonIndex.ix[X,'Horizon']\n",
    "    Slope = SensorCoefficients.ix[Horizon,'Slope']\n",
    "    Intercept = SensorCoefficients.ix[Horizon,'Intercept']\n",
    "    VWC[SensorRef] = VWC_uncalibrated.ix[:,SensorRef] * Slope + Intercept \n",
    "\n",
    "#Set up status files\n",
    "LastRow = VWC.index.size\n",
    "np.save('LastRow.npy',LastRow)\n",
    "VWC.to_pickle('.\\DataFrames\\LysoVWC_df')"
   ]
  },
  {
   "cell_type": "markdown",
   "metadata": {},
   "source": [
    "##Bring in libraries"
   ]
  },
  {
   "cell_type": "code",
   "execution_count": 1,
   "metadata": {
    "collapsed": false
   },
   "outputs": [],
   "source": [
    "import datetime\n",
    "import pandas as pd\n",
    "import numpy as np\n",
    "import plotly.plotly as py\n",
    "import plotly.tools as tls\n",
    "import time \n",
    "from plotly.graph_objs import *\n",
    "Tokens = tls.get_credentials_file()['stream_ids']"
   ]
  },
  {
   "cell_type": "markdown",
   "metadata": {},
   "source": [
    "##Function to read in fresh data and update status files"
   ]
  },
  {
   "cell_type": "code",
   "execution_count": 2,
   "metadata": {
    "collapsed": false
   },
   "outputs": [],
   "source": [
    "def UpdataDataFrame():\n",
    "    #Bring in previous status files\n",
    "    LastRead = np.load('.\\LastRow.npy')\n",
    "    VWC = pd.read_pickle('.\\DataFrames\\LysoVWC_df')\n",
    "    \n",
    "    #Bring in fresh data\n",
    "    StartRead = LastRead + 4\n",
    "    Skips = [0,2,3] + range(4,StartRead)\n",
    "    FreshData=pd.read_csv('K:\\Rainshelter\\StonySoilLysimeters\\DownloadedData\\StonyLysimetersCS650.dat', #specify file path for data to read in\n",
    "                             parse_dates=True, #tell the function to parse date columns to datetime formats\n",
    "                             dayfirst=True, #tell the function that the day is before the year in the data i.e format='%d/%m/%Y %H:%M'\n",
    "                             skiprows = Skips, #leave out rows 1, 3 and 4 which have redundant information\n",
    "                             index_col = 0, #Use the first column, which is Date, as an index\n",
    "                             na_values = 'NAN')\n",
    "\n",
    "    #Read in calibration coefficients calculated in C:\\GitHubRepos\\StonySoilLysimeters\\Calibration\\CS650Calibration.ipynb\n",
    "    SensorCoefficients = pd.read_pickle('C:\\GitHubRepos\\StonySoilLysimeters\\Calibration\\CS650Calibration.pkl')\n",
    "\n",
    "    #Bring in all index data\n",
    "    AllDataIndex=pd.read_csv('C:\\GitHubRepos\\StonySoilLysimeters\\IndexFiles\\StonyLysimetersWater&TempIndex.csv',\n",
    "                             index_col = 0)\n",
    "\n",
    "    #Bring in index for horizion types\n",
    "    HorizonIndex=pd.read_csv('C:\\GitHubRepos\\StonySoilLysimeters\\IndexFiles\\HorizonIndex.csv', #specify file path for data to read in\n",
    "                             index_col = 0, #Use the first column, which is Date, as an index\n",
    "                             na_values = 'NAN')\n",
    "\n",
    "    #Apply indexes to data\n",
    "    FreshDataTransposed = FreshData.transpose()\n",
    "    FreshDataIndexed = pd.concat([AllDataIndex,FreshDataTransposed], axis=1)\n",
    "    FreshDataIndexed.index.name='ColumnHeader'\n",
    "    FreshDataIndexed.set_index(['Measurement','Depth','Gravels','Stones','Column','Sensor', 'MUX', 'Port','Units','Summary','Block','Treatment'], \n",
    "                            append=False, inplace=True)\n",
    "    FreshDataIndexed.sort_index(inplace=True)\n",
    "    FreshLysoData=FreshDataIndexed.transpose()\n",
    "    FreshLysoData.index = FreshLysoData.index.to_datetime()  ## for some reason the concat function changes the data type on the date indes so need to change it back\n",
    "\n",
    "    ##Apply calibrations\n",
    "    FreshVWC_uncalibrated = FreshLysoData.VolumetricWaterContent\n",
    "    FreshVWC_uncalibrated.columns = FreshVWC_uncalibrated.columns.swaplevel('Depth','Sensor') #Make sensor the top level so index selection works properly\n",
    "    FreshVWC = pd.DataFrame(index = FreshVWC_uncalibrated.index, columns = FreshVWC_uncalibrated.columns)  #Set up empty dataframe with the same index and column structure as TDR data\n",
    "\n",
    "    for X in range (1,97): \n",
    "        SensorRef = 'S_' + np.str(X)\n",
    "        Horizon = HorizonIndex.ix[X,'Horizon']\n",
    "        Slope = SensorCoefficients.ix[Horizon,'Slope']\n",
    "        Intercept = SensorCoefficients.ix[Horizon,'Intercept']\n",
    "        FreshVWC[SensorRef] = FreshVWC_uncalibrated.ix[:,SensorRef] * Slope + Intercept \n",
    "\n",
    "    #Join fresh data onto existing data\n",
    "    VWC = pd.concat([VWC,FreshVWC])\n",
    "    VWC.sort_index(inplace = True)\n",
    "    \n",
    "    #Update status files\n",
    "    LastRow = VWC.index.size\n",
    "    np.save('LastRow.npy',LastRow)\n",
    "    VWC.to_pickle('.\\DataFrames\\LysoVWC_df')\n",
    "    return VWC"
   ]
  },
  {
   "cell_type": "markdown",
   "metadata": {},
   "source": [
    "##Set up treatment description classes"
   ]
  },
  {
   "cell_type": "code",
   "execution_count": 3,
   "metadata": {
    "collapsed": true
   },
   "outputs": [],
   "source": [
    "#Treatment class constructor\n",
    "class Treatment(object):\n",
    "    def __init__(self, Number, Depth, Stonyness):\n",
    "        self.Number=Number\n",
    "        self.Depth=Depth\n",
    "        self.Stonyness=Stonyness\n",
    "        self.streamID=Tokens[number+6] #First 6 takens used by Rainshelter graph, lysimeter uses the 2nd set\n",
    "        self.Label= Depth + ' ' + Stonyness\n",
    "        self.Trace = Scatter(x=[],y=[], name = self.Label,\n",
    "                stream = Stream(token=self.streamID)\n",
    "                )\n",
    "        self.Stream = py.Stream(self.streamID)\n",
    "\n",
    "#Creat class with treatment data\n",
    "Treatments = []\n",
    "Colors = ['red','blue','green']\n",
    "Depths = ['Deep', 'Shallow']\n",
    "Stones = ['StoneFree', 'Stony', 'VeryStony']\n",
    "Lines = ['solid','dash']\n",
    "number = 0\n",
    "LinePos = 0\n",
    "for D in Depths:\n",
    "    ColorPos = 0\n",
    "    for S in Stones:\n",
    "        Treatments.append(Treatment(number, D, S))\n",
    "        Treatments[number].Trace.line = Line(color = Colors[ColorPos], dash = Lines[LinePos])\n",
    "        ColorPos +=1\n",
    "        number += 1\n",
    "    LinePos+=1"
   ]
  },
  {
   "cell_type": "markdown",
   "metadata": {},
   "source": [
    "##Build base graph"
   ]
  },
  {
   "cell_type": "code",
   "execution_count": 4,
   "metadata": {
    "collapsed": false
   },
   "outputs": [
    {
     "data": {
      "text/html": [
       "<iframe id=\"igraph\" scrolling=\"no\" style=\"border:none;\"seamless=\"seamless\" src=\"https://plot.ly/~HamishBrown/244.embed\" height=\"525px\" width=\"100%\"></iframe>"
      ],
      "text/plain": [
       "<plotly.tools.PlotlyDisplay object>"
      ]
     },
     "execution_count": 4,
     "metadata": {},
     "output_type": "execute_result"
    }
   ],
   "source": [
    "GraphData = Data([Treatments[0].Trace,\n",
    "                  Treatments[1].Trace,\n",
    "                  Treatments[2].Trace,\n",
    "                  Treatments[3].Trace,\n",
    "                  Treatments[4].Trace,\n",
    "                  Treatments[5].Trace\n",
    "                 ])\n",
    "\n",
    "py.iplot(GraphData, filename = 'LysimeterSWC')"
   ]
  },
  {
   "cell_type": "markdown",
   "metadata": {},
   "source": [
    "##Function to update plotly graph"
   ]
  },
  {
   "cell_type": "code",
   "execution_count": 5,
   "metadata": {
    "collapsed": false
   },
   "outputs": [],
   "source": [
    "def Update():\n",
    "    #Update Data Frame with data that has been logged since last update\n",
    "    FieldData = UpdataDataFrame()\n",
    "    \n",
    "    #Calculate treatment means omitting data prior to 2014-11-05 08:00:00 to avoid NaN values\n",
    "    DataMeans =  FieldData.ix['2015-07-01 08:00:00':].groupby(level=['Depth','Gravels','Stones'],axis=1).mean()\n",
    "    DataMeans =  DataMeans.dropna(axis=1) #For some reason it keeps non valid combinations in so need to extract with this function\n",
    "    DataMeans.where(DataMeans<0.7,np.nan,inplace=True)\n",
    "\n",
    "    \n",
    "    #Calculate the water content of the soil profile by multiplying the volumetric water content by each layers\n",
    "    #depth and summing.  The 0-15 layers are divided by 2 to average the two readings\n",
    "    ProfileWater = DataMeans.ix[:,'D1'] * 150 + \\\n",
    "                   DataMeans.ix[:,'D2'].values * 150 + \\\n",
    "                   DataMeans.ix[:,'D3'].values * 150 + \\\n",
    "                   DataMeans.ix[:,'D4'].values * 150 \n",
    "    \n",
    "    FieldCapacity = ProfileWater.resample('D', how='max')\n",
    "    FieldCapacity = FieldCapacity.ix['2015-07-11'] # I would have though this would return a data frame with a single row but instead it returns a series with a multiindex in columns\n",
    "    SoilWaterDeficit = -(FieldCapacity - ProfileWater)  # This calculation only works because field capacity is a multi index series\n",
    "\n",
    "    X = SoilWaterDeficit.index\n",
    "    for Treatment in Treatments:\n",
    "        Treatment.Stream.open()\n",
    "        Treatment.Stream.write({'x':X,'y':SoilWaterDeficit.ix[:,(Treatment.Depth,Treatment.Stonyness)]})\n",
    "        Treatment.Stream.close()"
   ]
  },
  {
   "cell_type": "markdown",
   "metadata": {},
   "source": [
    "##One off update"
   ]
  },
  {
   "cell_type": "code",
   "execution_count": 6,
   "metadata": {
    "collapsed": false,
    "scrolled": false
   },
   "outputs": [],
   "source": [
    "Update()"
   ]
  },
  {
   "cell_type": "markdown",
   "metadata": {},
   "source": [
    "##Continious update"
   ]
  },
  {
   "cell_type": "code",
   "execution_count": null,
   "metadata": {
    "collapsed": true
   },
   "outputs": [],
   "source": [
    "while True:\n",
    "    Update()\n",
    "    time.sleep(3600)"
   ]
  }
 ],
 "metadata": {
  "kernelspec": {
   "display_name": "Python 2",
   "language": "python",
   "name": "python2"
  },
  "language_info": {
   "codemirror_mode": {
    "name": "ipython",
    "version": 2
   },
   "file_extension": ".py",
   "mimetype": "text/x-python",
   "name": "python",
   "nbconvert_exporter": "python",
   "pygments_lexer": "ipython2",
   "version": "2.7.10"
  }
 },
 "nbformat": 4,
 "nbformat_minor": 0
}
