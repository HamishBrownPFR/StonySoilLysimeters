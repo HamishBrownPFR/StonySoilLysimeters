{
 "metadata": {
  "name": "",
  "signature": "sha256:2a9e0fb3e96bbe8acd7d38f1ae317989b859672e0c328c26f1694a4a99caa6ca"
 },
 "nbformat": 3,
 "nbformat_minor": 0,
 "worksheets": [
  {
   "cells": [
    {
     "cell_type": "markdown",
     "metadata": {},
     "source": [
      "##Bring in libraries and dataframes and set indexes"
     ]
    },
    {
     "cell_type": "code",
     "collapsed": false,
     "input": [
      "import datetime\n",
      "import pandas as pd\n",
      "import numpy as np"
     ],
     "language": "python",
     "metadata": {},
     "outputs": [],
     "prompt_number": 26
    },
    {
     "cell_type": "code",
     "collapsed": false,
     "input": [
      "#Read in data\n",
      "AllData=pd.read_csv('K:\\Rainshelter\\StonySoilLysimeters\\DownloadedData\\StonyLysimeters_StonyLysimeters.dat', #specify file path for data to read in\n",
      "                         parse_dates=True, #tell the function to parse date columns to datetime formats\n",
      "                         dayfirst=True, #tell the function that the day is before the year in the data i.e format='%d/%m/%Y %H:%M'\n",
      "                         skiprows = [0,2,3], #leave out rows 1, 3 and 4 which have redundant information\n",
      "                         index_col = 0, #Use the first column, which is Date, as an index\n",
      "                         na_values = 'NAN')\n",
      "\n",
      "#Read in calibration coefficients calculated in C:\\GitHubRepos\\StonySoilLysimeters\\Calibration\\CS650Calibration.ipynb\n",
      "SensorCoefficients = pd.read_pickle('C:\\GitHubRepos\\StonySoilLysimeters\\Calibration\\CS650Calibration.pkl')\n",
      "\n",
      "#Bring in all index data\n",
      "AllDataIndex=pd.read_csv('C:\\GitHubRepos\\StonySoilLysimeters\\StonyLysimetersWater&TempIndex.csv',\n",
      "                         index_col = 0)\n",
      "\n",
      "#Bring in index for horizion types\n",
      "HorizonIndex=pd.read_csv('C:\\GitHubRepos\\StonySoilLysimeters\\HorizonIndex.csv', #specify file path for data to read in\n",
      "                         index_col = 0, #Use the first column, which is Date, as an index\n",
      "                         na_values = 'NAN')\n",
      "\n",
      "#Apply indexes to data\n",
      "AllDataTransposed = AllData.transpose()\n",
      "AllDataIndexed = pd.concat([AllDataIndex,AllDataTransposed], axis=1)\n",
      "AllDataIndexed.index.name='ColumnHeader'\n",
      "AllDataIndexed.set_index(['Measurement','Depth','Gravels','Stones','Column','Sensor', 'MUX', 'Port','Units','Summary','Block','Treatment'], \n",
      "                        append=False, inplace=True)\n",
      "AllDataIndexed.sort(inplace=True)\n",
      "Data=AllDataIndexed.transpose()\n",
      "Data.index = Data.index.to_datetime()  ## for some reason the concat function changes the data type on the date indes so need to change it back"
     ],
     "language": "python",
     "metadata": {},
     "outputs": [],
     "prompt_number": 27
    },
    {
     "cell_type": "markdown",
     "metadata": {},
     "source": [
      "## Creat new data frame and apply calibration coefficients for each horizon type"
     ]
    },
    {
     "cell_type": "code",
     "collapsed": false,
     "input": [
      "VWC_uncalibrated = Data.VolumetricWaterContent\n",
      "VWC_uncalibrated.columns = VWC_uncalibrated.columns.swaplevel('Depth','Sensor') #Make sensor the top level so index selection works properly\n",
      "VWC_calibrated = pd.DataFrame(index = VWC_uncalibrated.index, columns = VWC_uncalibrated.columns)  #Set up empty dataframe with the same index and column structure as TDR data\n",
      "\n",
      "for X in range (1,97): \n",
      "    SensorRef = 'S_' + np.str(X)\n",
      "    Horizon = HorizonIndex.ix[X,'Horizon']\n",
      "    Slope = SensorCoefficients.ix[Horizon,'Slope']\n",
      "    Intercept = SensorCoefficients.ix[Horizon,'Intercept']\n",
      "    VWC_calibrated[SensorRef] = VWC_uncalibrated.ix[:,SensorRef] * Slope + Intercept "
     ],
     "language": "python",
     "metadata": {},
     "outputs": [],
     "prompt_number": 28
    },
    {
     "cell_type": "markdown",
     "metadata": {},
     "source": [
      "## Export volumetric water content dataframes"
     ]
    },
    {
     "cell_type": "code",
     "collapsed": false,
     "input": [
      "VWC = VWC_calibrated\n",
      "VWC.columns = VWC.columns.swaplevel('Sensor','Depth') # Get index back in the same order as the others\n",
      "VWC.to_pickle('.\\DataFrames\\LysoVWC_df')"
     ],
     "language": "python",
     "metadata": {},
     "outputs": [],
     "prompt_number": 29
    },
    {
     "cell_type": "markdown",
     "metadata": {},
     "source": [
      "## Export Temperature data frame"
     ]
    },
    {
     "cell_type": "code",
     "collapsed": false,
     "input": [
      "Temp = Data.Temperature\n",
      "Temp.to_pickle('.\\DataFrames\\LysoTemp_df')"
     ],
     "language": "python",
     "metadata": {},
     "outputs": [],
     "prompt_number": 30
    },
    {
     "cell_type": "markdown",
     "metadata": {},
     "source": [
      "## Export Electrical Conductivity Data frame"
     ]
    },
    {
     "cell_type": "code",
     "collapsed": false,
     "input": [
      "EC = Data.ElectricalConductivity\n",
      "EC.to_pickle('.\\DataFrames\\LysoEC_df')"
     ],
     "language": "python",
     "metadata": {},
     "outputs": [],
     "prompt_number": 31
    },
    {
     "cell_type": "markdown",
     "metadata": {},
     "source": [
      "##Export Permittivity Data frame"
     ]
    },
    {
     "cell_type": "code",
     "collapsed": false,
     "input": [
      "Perm = Data.Permittivity\n",
      "Perm.to_pickle('.\\DataFrames\\LysoPerm_df')"
     ],
     "language": "python",
     "metadata": {},
     "outputs": [],
     "prompt_number": 32
    },
    {
     "cell_type": "markdown",
     "metadata": {},
     "source": [
      "##Export Period Data Frame"
     ]
    },
    {
     "cell_type": "code",
     "collapsed": false,
     "input": [
      "Period = Data.Period\n",
      "Period.to_pickle('.\\DataFrames\\LysoPeriod_df')"
     ],
     "language": "python",
     "metadata": {},
     "outputs": [],
     "prompt_number": 33
    },
    {
     "cell_type": "markdown",
     "metadata": {},
     "source": [
      "##Export Voltage ratio data"
     ]
    },
    {
     "cell_type": "code",
     "collapsed": false,
     "input": [
      "VR = Data.VoltageRatio\n",
      "VR.to_pickle('.\\DataFrames\\LysoVR_df')"
     ],
     "language": "python",
     "metadata": {},
     "outputs": [],
     "prompt_number": 34
    }
   ],
   "metadata": {}
  }
 ]
}