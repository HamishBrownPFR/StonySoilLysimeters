{
 "metadata": {
  "name": "",
  "signature": "sha256:6c4096688766e23227a17432f51edcfaa6778b76bd78d4e7b4156c28edba6fb2"
 },
 "nbformat": 3,
 "nbformat_minor": 0,
 "worksheets": [
  {
   "cells": [
    {
     "cell_type": "markdown",
     "metadata": {},
     "source": [
      "##Bring in libraries and dataframes and set indexes"
     ]
    },
    {
     "cell_type": "code",
     "collapsed": false,
     "input": [
      "import datetime\n",
      "import pandas as pd\n",
      "import numpy as np"
     ],
     "language": "python",
     "metadata": {},
     "outputs": [],
     "prompt_number": 1
    },
    {
     "cell_type": "code",
     "collapsed": false,
     "input": [
      "#Read in data\n",
      "AllData=pd.read_csv('K:\\Rainshelter\\StonySoilLysimeters\\DownloadedData\\StonyLysimetersCS650.dat', #specify file path for data to read in\n",
      "                         parse_dates=True, #tell the function to parse date columns to datetime formats\n",
      "                         dayfirst=True, #tell the function that the day is before the year in the data i.e format='%d/%m/%Y %H:%M'\n",
      "                         skiprows = [0,2,3], #leave out rows 1, 3 and 4 which have redundant information\n",
      "                         index_col = 0, #Use the first column, which is Date, as an index\n",
      "                         na_values = 'NAN')\n",
      "\n",
      "#Read in calibration coefficients calculated in C:\\GitHubRepos\\StonySoilLysimeters\\Calibration\\CS650Calibration.ipynb\n",
      "SensorCoefficients = pd.read_pickle('C:\\GitHubRepos\\StonySoilLysimeters\\Calibration\\CS650Calibration.pkl')\n",
      "\n",
      "#Bring in all index data\n",
      "AllDataIndex=pd.read_csv('C:\\GitHubRepos\\StonySoilLysimeters\\IndexFiles\\StonyLysimetersWater&TempIndex.csv',\n",
      "                         index_col = 0)\n",
      "\n",
      "#Bring in index for horizion types\n",
      "HorizonIndex=pd.read_csv('C:\\GitHubRepos\\StonySoilLysimeters\\IndexFiles\\HorizonIndex.csv', #specify file path for data to read in\n",
      "                         index_col = 0, #Use the first column, which is Date, as an index\n",
      "                         na_values = 'NAN')\n",
      "\n",
      "#Apply indexes to data\n",
      "AllDataTransposed = AllData.transpose()\n",
      "AllDataIndexed = pd.concat([AllDataIndex,AllDataTransposed], axis=1)\n",
      "AllDataIndexed.index.name='ColumnHeader'\n",
      "AllDataIndexed.set_index(['Measurement','Depth','Gravels','Stones','Column','Sensor', 'MUX', 'Port','Units','Summary','Block','Treatment'], \n",
      "                        append=False, inplace=True)\n",
      "AllDataIndexed.sort(inplace=True)\n",
      "Data=AllDataIndexed.transpose()\n",
      "Data.index = Data.index.to_datetime()  ## for some reason the concat function changes the data type on the date indes so need to change it back"
     ],
     "language": "python",
     "metadata": {},
     "outputs": [],
     "prompt_number": 2
    },
    {
     "cell_type": "code",
     "collapsed": false,
     "input": [
      "Data[:12585].index"
     ],
     "language": "python",
     "metadata": {},
     "outputs": [
      {
       "metadata": {},
       "output_type": "pyout",
       "prompt_number": 3,
       "text": [
        "<class 'pandas.tseries.index.DatetimeIndex'>\n",
        "[2015-02-07 12:15:00, ..., 2015-06-23 14:30:00]\n",
        "Length: 12585, Freq: None, Timezone: None"
       ]
      }
     ],
     "prompt_number": 3
    },
    {
     "cell_type": "code",
     "collapsed": false,
     "input": [
      "from datetime import timedelta #Import function needed for doing date deltas \n",
      "Test = Data[:12585].index - timedelta(hours=1) \n",
      "Test"
     ],
     "language": "python",
     "metadata": {},
     "outputs": [
      {
       "metadata": {},
       "output_type": "pyout",
       "prompt_number": 4,
       "text": [
        "<class 'pandas.tseries.index.DatetimeIndex'>\n",
        "[2015-02-07 11:15:00, ..., 2015-06-23 13:30:00]\n",
        "Length: 12585, Freq: None, Timezone: None"
       ]
      }
     ],
     "prompt_number": 4
    },
    {
     "cell_type": "markdown",
     "metadata": {},
     "source": [
      "## Creat new data frame and apply calibration coefficients for each horizon type"
     ]
    },
    {
     "cell_type": "code",
     "collapsed": false,
     "input": [
      "VWC_uncalibrated = Data.VolumetricWaterContent\n",
      "VWC_uncalibrated.columns = VWC_uncalibrated.columns.swaplevel('Depth','Sensor') #Make sensor the top level so index selection works properly\n",
      "VWC_calibrated = pd.DataFrame(index = VWC_uncalibrated.index, columns = VWC_uncalibrated.columns)  #Set up empty dataframe with the same index and column structure as TDR data\n",
      "\n",
      "for X in range (1,97): \n",
      "    SensorRef = 'S_' + np.str(X)\n",
      "    Horizon = HorizonIndex.ix[X,'Horizon']\n",
      "    Slope = SensorCoefficients.ix[Horizon,'Slope']\n",
      "    Intercept = SensorCoefficients.ix[Horizon,'Intercept']\n",
      "    VWC_calibrated[SensorRef] = VWC_uncalibrated.ix[:,SensorRef] * Slope + Intercept "
     ],
     "language": "python",
     "metadata": {},
     "outputs": [],
     "prompt_number": 5
    },
    {
     "cell_type": "markdown",
     "metadata": {},
     "source": [
      "##Calculat plant available water for each horizon"
     ]
    },
    {
     "cell_type": "code",
     "collapsed": false,
     "input": [
      "PAW = pd.DataFrame(index = VWC_uncalibrated.index, columns = VWC_uncalibrated.columns)  #Set up empty dataframe with the same index and column structure as TDR data\n",
      "\n",
      "for X in range (1,97): \n",
      "    SensorRef = 'S_' + np.str(X)\n",
      "    Horizon = HorizonIndex.ix[X,'Horizon']\n",
      "    LL = SensorCoefficients.ix[Horizon,'LL']\n",
      "    PAW[SensorRef] = VWC_calibrated.ix[:,SensorRef] - LL \n",
      "\n",
      "PAW.to_pickle('.\\DataFrames\\LysoPAW_df')"
     ],
     "language": "python",
     "metadata": {},
     "outputs": [],
     "prompt_number": 6
    },
    {
     "cell_type": "markdown",
     "metadata": {},
     "source": [
      "## Export volumetric water content dataframes"
     ]
    },
    {
     "cell_type": "code",
     "collapsed": false,
     "input": [
      "VWC = VWC_calibrated\n",
      "VWC.columns = VWC.columns.swaplevel('Sensor','Depth') # Get index back in the same order as the others\n",
      "VWC.to_pickle('.\\DataFrames\\LysoVWC_df')"
     ],
     "language": "python",
     "metadata": {},
     "outputs": [],
     "prompt_number": 7
    },
    {
     "cell_type": "markdown",
     "metadata": {},
     "source": [
      "## Export Temperature data frame"
     ]
    },
    {
     "cell_type": "code",
     "collapsed": false,
     "input": [
      "Temp = Data.Temperature\n",
      "Temp.to_pickle('.\\DataFrames\\LysoTemp_df')"
     ],
     "language": "python",
     "metadata": {},
     "outputs": [],
     "prompt_number": 8
    },
    {
     "cell_type": "markdown",
     "metadata": {},
     "source": [
      "## Export Electrical Conductivity Data frame"
     ]
    },
    {
     "cell_type": "code",
     "collapsed": false,
     "input": [
      "EC = Data.ElectricalConductivity\n",
      "EC.to_pickle('.\\DataFrames\\LysoEC_df')"
     ],
     "language": "python",
     "metadata": {},
     "outputs": [],
     "prompt_number": 9
    },
    {
     "cell_type": "markdown",
     "metadata": {},
     "source": [
      "##Export Permittivity Data frame"
     ]
    },
    {
     "cell_type": "code",
     "collapsed": false,
     "input": [
      "Perm = Data.Permittivity\n",
      "Perm.to_pickle('.\\DataFrames\\LysoPerm_df')"
     ],
     "language": "python",
     "metadata": {},
     "outputs": [],
     "prompt_number": 10
    },
    {
     "cell_type": "markdown",
     "metadata": {},
     "source": [
      "##Export Period Data Frame"
     ]
    },
    {
     "cell_type": "code",
     "collapsed": false,
     "input": [
      "Period = Data.Period\n",
      "Period.to_pickle('.\\DataFrames\\LysoPeriod_df')"
     ],
     "language": "python",
     "metadata": {},
     "outputs": [],
     "prompt_number": 11
    },
    {
     "cell_type": "markdown",
     "metadata": {},
     "source": [
      "##Export Voltage ratio data"
     ]
    },
    {
     "cell_type": "code",
     "collapsed": false,
     "input": [
      "VR = Data.VoltageRatio\n",
      "VR.to_pickle('.\\DataFrames\\LysoVR_df')"
     ],
     "language": "python",
     "metadata": {},
     "outputs": [],
     "prompt_number": 12
    },
    {
     "cell_type": "markdown",
     "metadata": {},
     "source": [
      "##Export Drainage Data"
     ]
    },
    {
     "cell_type": "code",
     "collapsed": false,
     "input": [
      "#Read in data\n",
      "RawDrainageData=pd.read_csv('K:\\Rainshelter\\StonySoilLysimeters\\DownloadedData\\StonyLysimetersDrain.dat', #specify file path for data to read in\n",
      "                         parse_dates=True, #tell the function to parse date columns to datetime formats\n",
      "                         dayfirst=True, #tell the function that the day is before the year in the data i.e format='%d/%m/%Y %H:%M'\n",
      "                         skiprows = [0,2,3], #leave out rows 1, 3 and 4 which have redundant information\n",
      "                         index_col = 0, #Use the first column, which is Date, as an index\n",
      "                         na_values = 'NAN')\n",
      "\n",
      "#Bring in all index data\n",
      "DrainageDataIndex=pd.read_csv('C:\\GitHubRepos\\StonySoilLysimeters\\IndexFiles\\DrainageIndex.csv',\n",
      "                         index_col = 0)\n",
      "\n",
      "#Apply indexes to data\n",
      "DrainageDataTransposed = RawDrainageData.transpose()\n",
      "DrainageDataIndexed = pd.concat([DrainageDataIndex,DrainageDataTransposed], axis=1)\n",
      "DrainageDataIndexed.index.name='ColumnHeader',\n",
      "DrainageDataIndexed.set_index(['Measurement','Gravels','Stones','Column','Sensor', 'MUX', 'Port','Units','Summary','Block','Treatment'], \n",
      "                        append=False, inplace=True)\n",
      "DrainageDataIndexed.sort(inplace=True)\n",
      "DrainageData=DrainageDataIndexed.transpose()\n",
      "DrainageData.index = DrainageData.index.to_datetime()  ## for some reason the concat function changes the data type on the date indes so need to change it back"
     ],
     "language": "python",
     "metadata": {},
     "outputs": [],
     "prompt_number": 13
    },
    {
     "cell_type": "code",
     "collapsed": false,
     "input": [
      "DR = DrainageData['Drainage']\n",
      "DR.to_pickle('.\\DataFrames\\LysoDrainage_df')"
     ],
     "language": "python",
     "metadata": {},
     "outputs": [],
     "prompt_number": 14
    }
   ],
   "metadata": {}
  }
 ]
}