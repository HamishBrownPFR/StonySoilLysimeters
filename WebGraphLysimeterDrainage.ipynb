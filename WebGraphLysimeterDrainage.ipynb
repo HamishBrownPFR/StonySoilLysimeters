{
 "cells": [
  {
   "cell_type": "markdown",
   "metadata": {},
   "source": [
    "##Read in data, apply indexs and summarise for the first time"
   ]
  },
  {
   "cell_type": "code",
   "execution_count": 1,
   "metadata": {
    "collapsed": false
   },
   "outputs": [
    {
     "ename": "NameError",
     "evalue": "name 'pd' is not defined",
     "output_type": "error",
     "traceback": [
      "\u001b[1;31m---------------------------------------------------------------------------\u001b[0m",
      "\u001b[1;31mNameError\u001b[0m                                 Traceback (most recent call last)",
      "\u001b[1;32m<ipython-input-1-b4fcc4497051>\u001b[0m in \u001b[0;36m<module>\u001b[1;34m()\u001b[0m\n\u001b[0;32m      1\u001b[0m \u001b[1;31m#Read in data\u001b[0m\u001b[1;33m\u001b[0m\u001b[1;33m\u001b[0m\u001b[0m\n\u001b[1;32m----> 2\u001b[1;33m RawDrainageData=pd.read_csv('K:\\Rainshelter\\StonySoilLysimeters\\DownloadedData\\StonyLysimetersDrain.dat', #specify file path for data to read in\n\u001b[0m\u001b[0;32m      3\u001b[0m                          \u001b[0mparse_dates\u001b[0m\u001b[1;33m=\u001b[0m\u001b[0mTrue\u001b[0m\u001b[1;33m,\u001b[0m \u001b[1;31m#tell the function to parse date columns to datetime formats\u001b[0m\u001b[1;33m\u001b[0m\u001b[0m\n\u001b[0;32m      4\u001b[0m                          \u001b[0mdayfirst\u001b[0m\u001b[1;33m=\u001b[0m\u001b[0mTrue\u001b[0m\u001b[1;33m,\u001b[0m \u001b[1;31m#tell the function that the day is before the year in the data i.e format='%d/%m/%Y %H:%M'\u001b[0m\u001b[1;33m\u001b[0m\u001b[0m\n\u001b[0;32m      5\u001b[0m                          \u001b[0mskiprows\u001b[0m \u001b[1;33m=\u001b[0m \u001b[1;33m[\u001b[0m\u001b[1;36m0\u001b[0m\u001b[1;33m,\u001b[0m\u001b[1;36m2\u001b[0m\u001b[1;33m,\u001b[0m\u001b[1;36m3\u001b[0m\u001b[1;33m]\u001b[0m\u001b[1;33m,\u001b[0m \u001b[1;31m#leave out rows 1, 3 and 4 which have redundant information\u001b[0m\u001b[1;33m\u001b[0m\u001b[0m\n",
      "\u001b[1;31mNameError\u001b[0m: name 'pd' is not defined"
     ]
    }
   ],
   "source": [
    "#Read in data\n",
    "RawDrainageData=pd.read_csv('K:\\Rainshelter\\StonySoilLysimeters\\DownloadedData\\StonyLysimetersDrain.dat', #specify file path for data to read in\n",
    "                         parse_dates=True, #tell the function to parse date columns to datetime formats\n",
    "                         dayfirst=True, #tell the function that the day is before the year in the data i.e format='%d/%m/%Y %H:%M'\n",
    "                         skiprows = [0,2,3], #leave out rows 1, 3 and 4 which have redundant information\n",
    "                         index_col = 0, #Use the first column, which is Date, as an index\n",
    "                         na_values = 'NAN')\n",
    "\n",
    "#Bring in all index data\n",
    "DrainageDataIndex=pd.read_csv('C:\\GitHubRepos\\StonySoilLysimeters\\IndexFiles\\DrainageIndex.csv',\n",
    "                         index_col = 0)\n",
    "\n",
    "#Apply indexes to data\n",
    "DrainageDataTransposed = RawDrainageData.transpose()\n",
    "DrainageDataIndexed = pd.concat([DrainageDataIndex,DrainageDataTransposed], axis=1)\n",
    "DrainageDataIndexed.index.name='ColumnHeader',\n",
    "DrainageDataIndexed.set_index(['Measurement','Gravels','Stones','Column','Sensor', 'MUX', 'Port','Units','Summary','Block','Treatment'], \n",
    "                        append=False, inplace=True)\n",
    "DrainageDataIndexed.sort(inplace=True)\n",
    "DrainageData=DrainageDataIndexed.transpose()\n",
    "DrainageData.index = DrainageData.index.to_datetime()  ## for some reason the concat function changes the data type on the date indes so need to change it back\n",
    "\n",
    "#Set up status files\n",
    "LastRow = DrainageData.index.size\n",
    "np.save('DrainageLastRow.npy',LastRow)\n",
    "DrainageData.to_pickle('.\\DataFrames\\LysoDrainage_df')"
   ]
  },
  {
   "cell_type": "markdown",
   "metadata": {},
   "source": [
    "##Bring in libraries"
   ]
  },
  {
   "cell_type": "code",
   "execution_count": 2,
   "metadata": {
    "collapsed": false
   },
   "outputs": [],
   "source": [
    "import datetime\n",
    "import pandas as pd\n",
    "import numpy as np\n",
    "import plotly\n",
    "import plotly.plotly as py\n",
    "import plotly.tools as tls\n",
    "from plotly.graph_objs import *\n",
    "import time \n",
    "Tokens = tls.get_credentials_file()['stream_ids']"
   ]
  },
  {
   "cell_type": "markdown",
   "metadata": {},
   "source": [
    "##Function to read in fresh data and update status files"
   ]
  },
  {
   "cell_type": "code",
   "execution_count": 3,
   "metadata": {
    "collapsed": false
   },
   "outputs": [],
   "source": [
    "def UpdataDataFrame():\n",
    "    #Bring in previous status files\n",
    "    LastRead = np.load('.\\DrainageLastRow.npy')\n",
    "    DrainageData = pd.read_pickle('.\\DataFrames\\LysoDrainage_df')\n",
    "    \n",
    "    #Bring in fresh data\n",
    "    StartRead = LastRead + 4\n",
    "    Skips = [0,2,3] + range(4,StartRead)\n",
    "    FreshDrainageData=pd.read_csv('K:\\Rainshelter\\StonySoilLysimeters\\DownloadedData\\StonyLysimetersDrain.dat', #specify file path for data to read in\n",
    "                         parse_dates=True, #tell the function to parse date columns to datetime formats\n",
    "                         dayfirst=True, #tell the function that the day is before the year in the data i.e format='%d/%m/%Y %H:%M'\n",
    "                         skiprows = Skips, #leave out rows 1, 3 and 4 which have redundant information\n",
    "                         index_col = 0, #Use the first column, which is Date, as an index\n",
    "                         na_values = 'NAN')\n",
    "    #Bring in all index data\n",
    "    DrainageDataIndex=pd.read_csv('C:\\GitHubRepos\\StonySoilLysimeters\\IndexFiles\\DrainageIndex.csv',\n",
    "                             index_col = 0)\n",
    "\n",
    "    #Apply indexes to data\n",
    "    FreshDrainageDataTransposed = FreshDrainageData.transpose()\n",
    "    FreshDrainageDataIndexed = pd.concat([DrainageDataIndex,FreshDrainageDataTransposed], axis=1)\n",
    "    FreshDrainageDataIndexed.index.name='ColumnHeader',\n",
    "    FreshDrainageDataIndexed.set_index(['Measurement','Gravels','Stones','Column','Sensor', 'MUX', 'Port','Units','Summary','Block','Treatment'], \n",
    "                            append=False, inplace=True)\n",
    "    FreshDrainageDataIndexed.sort_index(inplace=True)\n",
    "    FreshDrainageData=FreshDrainageDataIndexed.transpose()\n",
    "    FreshDrainageData.index = FreshDrainageData.index.to_datetime()  ## for some reason the concat function changes the data type on the date indes so need to change it back\n",
    "\n",
    "\n",
    "    #Join fresh data onto existing data\n",
    "    DrainageData = pd.concat([DrainageData,FreshDrainageData])\n",
    "    DrainageData.sort_index(inplace = True)\n",
    "    \n",
    "    #Update status files\n",
    "    LastRow = DrainageData.index.size\n",
    "    np.save('DrainageLastRow.npy',LastRow)\n",
    "    DrainageData.to_pickle('.\\DataFrames\\LysoDrainage_df')\n",
    "    return DrainageData"
   ]
  },
  {
   "cell_type": "markdown",
   "metadata": {},
   "source": [
    "##Set up treatment description classes"
   ]
  },
  {
   "cell_type": "code",
   "execution_count": 4,
   "metadata": {
    "collapsed": false
   },
   "outputs": [],
   "source": [
    "#Treatment class constructor\n",
    "class Treatment(object):\n",
    "    def __init__(self, Number, Depth, Stonyness):\n",
    "        self.Number=Number\n",
    "        self.Depth=Depth\n",
    "        self.Stonyness=Stonyness\n",
    "        self.streamID=Tokens[number+12] #First 6 takens used by Rainshelter graph, lysimeter uses the 2nd set\n",
    "        self.Label= Depth + ' ' + Stonyness\n",
    "        self.Trace = Scatter(x=[],y=[], name = self.Label,\n",
    "                stream = Stream(token=self.streamID)\n",
    "                )\n",
    "        self.Stream = py.Stream(self.streamID)\n",
    "\n",
    "#Creat class with treatment data\n",
    "Treatments = []\n",
    "Colors = ['blue','green','red']\n",
    "Depths = ['Deep', 'Shallow']\n",
    "Stones = ['StoneFree', 'Stony', 'VeryStony']\n",
    "Lines = ['solid','dash']\n",
    "number = 0\n",
    "LinePos = 0\n",
    "for D in Depths:\n",
    "    ColorPos = 0\n",
    "    for S in Stones:\n",
    "        Treatments.append(Treatment(number, D, S))\n",
    "        Treatments[number].Trace.line = Line(color = Colors[ColorPos], dash = Lines[LinePos])\n",
    "        ColorPos +=1\n",
    "        number += 1\n",
    "    LinePos+=1"
   ]
  },
  {
   "cell_type": "code",
   "execution_count": 5,
   "metadata": {
    "collapsed": false
   },
   "outputs": [
    {
     "name": "stdout",
     "output_type": "stream",
     "text": [
      "4e70vk8kvi\n",
      "ezvz3b2q3c\n",
      "i40kblx3d2\n",
      "z59gf97khg\n",
      "rq4a7mcfzs\n",
      "ljfobancoa\n"
     ]
    }
   ],
   "source": [
    "for T in Treatments:\n",
    "    print(T.streamID)"
   ]
  },
  {
   "cell_type": "markdown",
   "metadata": {},
   "source": [
    "##Build base graph"
   ]
  },
  {
   "cell_type": "code",
   "execution_count": 6,
   "metadata": {
    "collapsed": false
   },
   "outputs": [],
   "source": [
    "GraphData = Data([Treatments[0].Trace,\n",
    "                  Treatments[1].Trace,\n",
    "                  Treatments[2].Trace,\n",
    "                  Treatments[3].Trace,\n",
    "                  Treatments[4].Trace,\n",
    "                  Treatments[5].Trace\n",
    "                 ])\n",
    "\n",
    "layout = Layout(title='Lysimeter Drainage flux',\n",
    "                xaxis=XAxis(title='Date'),\n",
    "                yaxis=YAxis(title='drainage (tips/h)'),\n",
    "                autosize=True)\n",
    "\n",
    "Fig = Figure(data=GraphData, layout=layout)\n",
    "\n",
    "unique_url = py.iplot(Fig, filename = 'LysimeterDrainage')"
   ]
  },
  {
   "cell_type": "markdown",
   "metadata": {},
   "source": [
    "##Function to update plotly graph"
   ]
  },
  {
   "cell_type": "code",
   "execution_count": 7,
   "metadata": {
    "collapsed": false
   },
   "outputs": [],
   "source": [
    "def Update():\n",
    "    #Update Data Frame with data that has been logged since last update\n",
    "    FieldData = UpdataDataFrame()\n",
    "    \n",
    "    #Calculate treatment means omitting data prior to 2014-11-05 08:00:00 to avoid NaN values\n",
    "    DataSums =  FieldData.ix['2015-06-01 08:00:00':,'Drainage'].groupby(level=['Gravels','Stones'],axis=1).mean()\n",
    "    DataSums =  DataSums.dropna(axis=1) #For some reason it keeps non valid combinations in so need to extract with this function\n",
    "    DataSums = DataSums.resample('H1', how='sum')\n",
    "    \n",
    "    X = DataSums.index\n",
    "    for Treatment in Treatments:\n",
    "        Treatment.Stream.open()\n",
    "        Treatment.Stream.write({'x':X,'y':DataSums.ix[:,(Treatment.Depth,Treatment.Stonyness)]})\n",
    "        Treatment.Stream.close()"
   ]
  },
  {
   "cell_type": "markdown",
   "metadata": {},
   "source": [
    "##One off update"
   ]
  },
  {
   "cell_type": "code",
   "execution_count": 66,
   "metadata": {
    "collapsed": false,
    "scrolled": false
   },
   "outputs": [],
   "source": [
    "Update()"
   ]
  },
  {
   "cell_type": "markdown",
   "metadata": {},
   "source": [
    "##Continious update"
   ]
  },
  {
   "cell_type": "code",
   "execution_count": null,
   "metadata": {
    "collapsed": true
   },
   "outputs": [],
   "source": [
    "while True:\n",
    "    try:\n",
    "        Update() #get fresh data and send to graph\n",
    "    except:\n",
    "        retrys = 1\n",
    "        print('Attempt to stream data failed')\n",
    "        while retrys < 5: ##retry connecting 4 times\n",
    "            time.sleep(160)  ##wait 2 min \n",
    "            try:\n",
    "                Update() # have another go\n",
    "            except:\n",
    "                print('Retry' + str(retrys) + ' failed')\n",
    "                retrys +=1 #increment try counter and try again\n",
    "            else:\n",
    "                retrys = 6 #set try counter so loop is exited\n",
    "    time.sleep(3600)  ## update again in an hours time"
   ]
  }
 ],
 "metadata": {
  "kernelspec": {
   "display_name": "Python 2",
   "language": "python",
   "name": "python2"
  },
  "language_info": {
   "codemirror_mode": {
    "name": "ipython",
    "version": 2
   },
   "file_extension": ".py",
   "mimetype": "text/x-python",
   "name": "python",
   "nbconvert_exporter": "python",
   "pygments_lexer": "ipython2",
   "version": "2.7.11"
  }
 },
 "nbformat": 4,
 "nbformat_minor": 0
}
